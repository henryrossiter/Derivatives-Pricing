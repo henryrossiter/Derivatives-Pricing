{
 "cells": [
  {
   "cell_type": "code",
   "execution_count": 1,
   "metadata": {},
   "outputs": [],
   "source": [
    "# Allow relative package imports\n",
    "import os\n",
    "import sys\n",
    "module_path = os.path.abspath(os.path.join('..'))\n",
    "if module_path not in sys.path:\n",
    "    sys.path.append(module_path)"
   ]
  },
  {
   "cell_type": "code",
   "execution_count": 2,
   "metadata": {},
   "outputs": [],
   "source": [
    "# Import pricing model\n",
    "import pricing.blackscholes as bs"
   ]
  },
  {
   "cell_type": "code",
   "execution_count": 3,
   "metadata": {},
   "outputs": [],
   "source": [
    "from mpl_toolkits.mplot3d import axes3d\n",
    "import matplotlib.pyplot as plt\n",
    "from matplotlib import cm\n",
    "import numpy as np"
   ]
  },
  {
   "cell_type": "code",
   "execution_count": 4,
   "metadata": {},
   "outputs": [],
   "source": [
    "sigma = 0.50\n",
    "r = 0.01"
   ]
  },
  {
   "cell_type": "code",
   "execution_count": 5,
   "metadata": {},
   "outputs": [],
   "source": [
    "curr_prices = np.array(\n",
    "    [np.arange(0.8, 1.2, .02)] * len(np.arange(0.8, 1.2, .02))\n",
    ")"
   ]
  },
  {
   "cell_type": "code",
   "execution_count": 6,
   "metadata": {},
   "outputs": [],
   "source": [
    "strike_prices = np.array(\n",
    "    [np.arange(0.8, 1.2, .02)] * len(np.arange(0.8, 1.2, .02))\n",
    ")"
   ]
  },
  {
   "cell_type": "code",
   "execution_count": 7,
   "metadata": {},
   "outputs": [],
   "source": [
    "vols = np.array(\n",
    "    [np.arange(0.2, 0.6, .02)] * len(np.arange(0.2, 0.6, .02))\n",
    ")"
   ]
  },
  {
   "cell_type": "code",
   "execution_count": 15,
   "metadata": {},
   "outputs": [],
   "source": [
    "risk_free_rates = np.array(\n",
    "    [np.arange(0.005, 0.025, .001)] * len(np.arange(0.005, 0.025, .001))\n",
    ")"
   ]
  },
  {
   "cell_type": "code",
   "execution_count": 13,
   "metadata": {},
   "outputs": [],
   "source": [
    "#Plot Theoretical Value at varying Asset Price & Strike Price\n",
    "%matplotlib qt\n",
    "\n",
    "Z = np.zeros((20, 20))        \n",
    "for i, price in enumerate(curr_prices[0]):\n",
    "    for j, strike in enumerate(strike_prices[0]):\n",
    "        Z[i][j] = bs.callPrice(price, strike, 0.01, .50, 1)\n",
    "\n",
    "fig = plt.figure()\n",
    "ax = fig.add_subplot(111, projection='3d')\n",
    "surf = ax.plot_surface(strike_prices, curr_prices.transpose(), Z, cmap=cm.coolwarm)\n",
    "fig.colorbar(surf, shrink=0.5, aspect=5)\n",
    "plt.show()"
   ]
  },
  {
   "cell_type": "code",
   "execution_count": 14,
   "metadata": {},
   "outputs": [],
   "source": [
    "#Plot Theoretical Value at varying Asset Price & Volatility\n",
    "%matplotlib qt\n",
    "\n",
    "Z = np.zeros((20, 20))        \n",
    "for i, price in enumerate(curr_prices[0]):\n",
    "    for j, vol in enumerate(vols[0]):\n",
    "        Z[i][j] = bs.callPrice(price, 1, 0.01, vol, 1)\n",
    "\n",
    "fig = plt.figure()\n",
    "ax = fig.add_subplot(111, projection='3d')\n",
    "surf = ax.plot_surface(vols, curr_prices.transpose(), Z, cmap=cm.coolwarm)\n",
    "fig.colorbar(surf, shrink=0.5, aspect=5)\n",
    "plt.show()"
   ]
  },
  {
   "cell_type": "code",
   "execution_count": 18,
   "metadata": {},
   "outputs": [],
   "source": [
    "#Plot Theoretical Value at varying Volatility and Risk-free Rate\n",
    "%matplotlib qt\n",
    "\n",
    "Z = np.zeros((20, 20))        \n",
    "for i, rate in enumerate(risk_free_rates[0]):\n",
    "    for j, vol in enumerate(vols[0]):\n",
    "        Z[i][j] = bs.callPrice(1, 1, rate, vol, 1)\n",
    "\n",
    "fig = plt.figure()\n",
    "ax = fig.add_subplot(111, projection='3d')\n",
    "surf = ax.plot_surface(vols, risk_free_rates.transpose(), Z, cmap=cm.coolwarm)\n",
    "fig.colorbar(surf, shrink=0.5, aspect=5)\n",
    "plt.show()"
   ]
  }
 ],
 "metadata": {
  "kernelspec": {
   "display_name": "Python 3",
   "language": "python",
   "name": "python3"
  },
  "language_info": {
   "codemirror_mode": {
    "name": "ipython",
    "version": 3
   },
   "file_extension": ".py",
   "mimetype": "text/x-python",
   "name": "python",
   "nbconvert_exporter": "python",
   "pygments_lexer": "ipython3",
   "version": "3.7.6"
  }
 },
 "nbformat": 4,
 "nbformat_minor": 4
}
